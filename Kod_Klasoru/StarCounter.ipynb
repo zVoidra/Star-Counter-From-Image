{
 "cells": [
  {
   "cell_type": "code",
   "execution_count": 52,
   "metadata": {},
   "outputs": [],
   "source": [
    "import numpy as np\n",
    "import cv2 as cv2\n",
    "from matplotlib import pyplot as plt"
   ]
  },
  {
   "cell_type": "code",
   "execution_count": 53,
   "metadata": {},
   "outputs": [],
   "source": [
    "def Show_plot(inImage, inTitle):\n",
    "    size = 16\n",
    "    fig = plt.figure(figsize=(size, size))\n",
    "    plt.title(inTitle, fontsize= \"40\")\n",
    "    plt.imshow(inImage, cmap='gray'), plt.xticks([]), plt.yticks([])"
   ]
  },
  {
   "cell_type": "code",
   "execution_count": 54,
   "metadata": {},
   "outputs": [],
   "source": [
    "def ChangeToGrayScale(inImage):\n",
    "    inImage = cv2.cvtColor(inImage, cv2.COLOR_BGR2GRAY)\n",
    "    Show_plot(inImage, 'Original Image')\n",
    "    return inImage"
   ]
  },
  {
   "cell_type": "code",
   "execution_count": 55,
   "metadata": {},
   "outputs": [],
   "source": [
    "def GamaCorrection(inImage):\n",
    "    y = 1.5\n",
    "    gray_Gamma = np.array(255 * (inImage / 255) ** y , dtype='uint8')\n",
    "    Show_plot(gray_Gamma, 'Gamma')\n",
    "    return gray_Gamma"
   ]
  },
  {
   "cell_type": "code",
   "execution_count": 56,
   "metadata": {},
   "outputs": [],
   "source": [
    "def ParlaklikTemizleme(inImage):\n",
    "    S = inImage.shape\n",
    "    # 0 < MaxDotStrength < 255\n",
    "    MaxDotStrength = 40\n",
    "\n",
    "    for row in range(S[0]):\n",
    "        for column in range(S[1]):\n",
    "            pixel = inImage[row, column]\n",
    "            if(pixel < MaxDotStrength):\n",
    "                inImage[row, column] = 0\n",
    "            else:\n",
    "                inImage[row, column] = 255\n",
    "\n",
    "    Show_plot(inImage, 'ParlaklikTemizleme')\n",
    "    return inImage"
   ]
  },
  {
   "cell_type": "code",
   "execution_count": 57,
   "metadata": {},
   "outputs": [],
   "source": [
    "def Threshold(inImage):\n",
    "    # blockSize = Filtre boyutu\n",
    "    blockSize = 3\n",
    "    # C = Derinlik\n",
    "    C = 5\n",
    "    thresh = cv2.adaptiveThreshold(inImage, 255,\n",
    "    cv2.ADAPTIVE_THRESH_GAUSSIAN_C, cv2.THRESH_BINARY, blockSize, C)\n",
    "    # Bit değerliğinde NOT işlemi. Siyah ve beyaz değişimi.\n",
    "    thresh = cv2.bitwise_not(thresh)\n",
    "    Show_plot(thresh, 'Adaptive Threshold')\n",
    "    return thresh\n"
   ]
  },
  {
   "cell_type": "code",
   "execution_count": 58,
   "metadata": {},
   "outputs": [],
   "source": [
    "def DilationAndErosion(inImage):\n",
    "    filtersize = 3\n",
    "    kernel = np.ones((filtersize, filtersize), np.uint8)\n",
    "    img_dilation = cv2.dilate(inImage, kernel, iterations=1)\n",
    "    img_erode = cv2.erode(img_dilation,kernel, iterations=1)\n",
    "    \n",
    "    Show_plot(img_dilation, \"Dilation\")\n",
    "    Show_plot(img_erode, \"Dilation + Erosion\")\n",
    "    return img_erode"
   ]
  },
  {
   "cell_type": "code",
   "execution_count": 59,
   "metadata": {},
   "outputs": [],
   "source": [
    "def LabelImage(inImage):\n",
    "    ret, labels = cv2.connectedComponents(inImage)\n",
    "    label_hue = np.uint8(180 * labels / np.max(labels))\n",
    "    blank_ch = 255 * np.ones_like(label_hue)\n",
    "    labeled_img = cv2.merge([label_hue, blank_ch, blank_ch])\n",
    "    labeled_img = cv2.cvtColor(labeled_img, cv2.COLOR_HSV2BGR)\n",
    "    labeled_img[label_hue == 0] = 0\n",
    "\n",
    "    print('Star Count is:', ret-1)\n",
    "    \n",
    "    Show_plot(labeled_img, 'Star counted:'+ str(ret-1))\n",
    "    return labeled_img"
   ]
  },
  {
   "cell_type": "code",
   "execution_count": 60,
   "metadata": {},
   "outputs": [],
   "source": [
    "# !! BURAYI DEĞİŞTİR !! #\n",
    "# Test etmek istediğiniz Image'i okutunuz. Altta bulunan örnekleri yorumdan çıkartarak deneyebilirsiniz.\n",
    "# original = cv2.imread('../Veri_Klasoru/86nokta.jpg')\n",
    "# original = cv2.imread('../Veri_Klasoru/13nokta.jpg')\n",
    "original = cv2.imread('../Veri_Klasoru/stars1.jpg')\n",
    "# original = cv2.imread('../Veri_Klasoru/stars2.jpg')\n",
    "# original = cv2.imread('../Veri_Klasoru/stars3.jpg')\n",
    "# original = cv2.imread('../Veri_Klasoru/stars4.jpg')\n",
    "# original = cv2.imread('../Veri_Klasoru/stars5.jpg')\n",
    "# original = cv2.imread('../Veri_Klasoru/stars6.jpg')\n",
    "# original = cv2.imread('../Veri_Klasoru/stars7.jpg')"
   ]
  },
  {
   "cell_type": "code",
   "execution_count": null,
   "metadata": {},
   "outputs": [],
   "source": [
    "#Run Order\n",
    "image = ChangeToGrayScale(original)\n",
    "image = GamaCorrection(image)\n",
    "image = ParlaklikTemizleme(image)\n",
    "image = Threshold(image)\n",
    "image = DilationAndErosion(image)\n",
    "image = LabelImage(image)"
   ]
  }
 ],
 "metadata": {
  "interpreter": {
   "hash": "2be5faf79681da6f2a61fdfdd5405d65d042280f7fba6178067603e3a2925119"
  },
  "kernelspec": {
   "display_name": "Python 3.10.1 64-bit",
   "language": "python",
   "name": "python3"
  },
  "language_info": {
   "codemirror_mode": {
    "name": "ipython",
    "version": 3
   },
   "file_extension": ".py",
   "mimetype": "text/x-python",
   "name": "python",
   "nbconvert_exporter": "python",
   "pygments_lexer": "ipython3",
   "version": "3.10.1"
  },
  "orig_nbformat": 4
 },
 "nbformat": 4,
 "nbformat_minor": 2
}
